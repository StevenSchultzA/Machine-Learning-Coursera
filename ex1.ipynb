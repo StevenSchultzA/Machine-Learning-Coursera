{
 "cells": [
  {
   "cell_type": "markdown",
   "metadata": {},
   "source": [
    "### Machine Learning - Andrew Ng Coursera\n",
    "#### Programming Exercise 1: Linear Regression\n",
    "ex1 Homework using Python. Attempted to recreated graphs as close as possible to the ones from the assignment sheet\n",
    "\n",
    "I assume it is not a problem to post this since to get credit on the assignment it needs to be completed in Octave/MATLAB. Please contact me if there is an issue."
   ]
  },
  {
   "cell_type": "code",
   "execution_count": 1,
   "metadata": {},
   "outputs": [],
   "source": [
    "%matplotlib inline\n",
    "import numpy as np\n",
    "import matplotlib.pyplot as plt"
   ]
  },
  {
   "cell_type": "markdown",
   "metadata": {},
   "source": [
    "### 2. Linear Regression with 1 Variable"
   ]
  },
  {
   "cell_type": "markdown",
   "metadata": {},
   "source": [
    "Load the data and place it into the standard matricies for linear regression"
   ]
  },
  {
   "cell_type": "code",
   "execution_count": 2,
   "metadata": {},
   "outputs": [],
   "source": [
    "def load_data(file_path):\n",
    "    '''\n",
    "        Returns a matrix X of features and a vector y of training values\n",
    "        X : Matrix of training features\n",
    "        y : Vector of training outputs\n",
    "        m : number of training examples\n",
    "        Data file assumed to be of the form: x1,x2,x3,...,xn,y1\n",
    "        Where each row is one training example\n",
    "    '''\n",
    "    data = np.loadtxt(file_path, delimiter=',')\n",
    "    X = data[:,:-1]\n",
    "    y = data[:,-1]\n",
    "    m = y.size\n",
    "    X = np.insert(X, 0, 1, axis=1) # insert a column of 1's for the x0 'feature'\n",
    "    \n",
    "    return (X , y, m)\n",
    "    "
   ]
  },
  {
   "cell_type": "code",
   "execution_count": 3,
   "metadata": {},
   "outputs": [],
   "source": [
    "# Set X and y to the typical matricies for features and prices\n",
    "# Set m to the number of training examples\n",
    "X , y, m = load_data('data/ex1data1.txt')"
   ]
  },
  {
   "cell_type": "markdown",
   "metadata": {},
   "source": [
    "The data is for predicting profits of a food truck based on the population of a city.\n",
    "\n",
    "X is a matrix of the city population and y is a vector of profits in that city.\n",
    "\n",
    "Negitive profit means a loss of money."
   ]
  },
  {
   "cell_type": "markdown",
   "metadata": {},
   "source": [
    "### 2.1 Plotting the Data\n",
    "Plot the data as a scatter plot to first better understand our distribution of data\n",
    "It is also possible to plot this since there is only a single feature. \n",
    "More complex problems this becomes more difficult to visualize\n",
    "\n",
    "Note: I tried to match the example from the assignment graphed using Octave/MATLAB"
   ]
  },
  {
   "cell_type": "code",
   "execution_count": 4,
   "metadata": {},
   "outputs": [
    {
     "data": {
      "image/png": "[encoded data removed]",
      "text/plain": [
       "<matplotlib.figure.Figure at 0x114bce0b8>"
      ]
     },
     "metadata": {},
     "output_type": "display_data"
    }
   ],
   "source": [
    "plt.figure(figsize=(12,8))\n",
    "plt.plot(X[:,1], y[:], 'rx', markersize=10) # This is surprisingly similar to Octave\n",
    "plt.xlabel('Population of City in 10,000s')\n",
    "plt.ylabel('Profit in $10,000s')\n",
    "plt.title('Profit vs Population of City')\n",
    "plt.grid(True)"
   ]
  },
  {
   "cell_type": "markdown",
   "metadata": {},
   "source": [
    "### 2.2 Gradient Descent\n",
    "Using gradient descent, fit theta parameters to the dataset"
   ]
  },
  {
   "cell_type": "markdown",
   "metadata": {},
   "source": [
    "#### Define a function to calculate the cost function J"
   ]
  },
  {
   "cell_type": "code",
   "execution_count": 5,
   "metadata": {},
   "outputs": [],
   "source": [
    "def compute_cost(X, y, m, theta):\n",
    "    '''\n",
    "        Returns\n",
    "        J : Value of the cost function\n",
    "        Note: There are several ways to implement this.\n",
    "              I chose a general method so this will apply to multi feature sets too.\n",
    "    '''\n",
    "    J = (1/(2*m)) * (X.dot(theta) - y).T.dot(X.dot(theta) - y)\n",
    "    # Note: np.T is the same as .Transpose()\n",
    "    return J"
   ]
  },
  {
   "cell_type": "markdown",
   "metadata": {},
   "source": [
    "#### Define a function to perform gradient descent"
   ]
  },
  {
   "cell_type": "code",
   "execution_count": 6,
   "metadata": {},
   "outputs": [],
   "source": [
    "def gradient_descent(X, y, m, theta, alpha, iterations):\n",
    "    '''\n",
    "        Performs gradient descent and returns the updated theta values at the end of interations\n",
    "        and the history of J incase we want to plot it to view convergence\n",
    "    '''\n",
    "    J_history = []\n",
    "    for i in range(iterations):\n",
    "        h = np.dot(X, theta)\n",
    "        theta -= alpha/m * (X.T.dot(h-y))\n",
    "        J_history.append(compute_cost(X, y, m, theta))\n",
    "    \n",
    "    J_history = np.array(J_history) # Make the history a numpy array\n",
    "    return (theta, J_history)"
   ]
  },
  {
   "cell_type": "markdown",
   "metadata": {},
   "source": [
    "##### Setup initial values and compute cost and compare to several values"
   ]
  },
  {
   "cell_type": "code",
   "execution_count": 7,
   "metadata": {},
   "outputs": [],
   "source": [
    "alpha = 0.01\n",
    "iterations = 1500\n",
    "theta = [0 , 0]"
   ]
  },
  {
   "cell_type": "code",
   "execution_count": 8,
   "metadata": {},
   "outputs": [
    {
     "name": "stdout",
     "output_type": "stream",
     "text": [
      "theta0 = 0, theta1 = 0\n",
      "Expected: 32.07\n",
      "Calculated: 32.073\n",
      "\n",
      "theta0 = -1, theta1 = 2\n",
      "Expected: 54.24\n",
      "Calculated: 54.242\n",
      "\n"
     ]
    }
   ],
   "source": [
    "theta_00 = [0 , 0]\n",
    "theta_12 = [-1 , 2]\n",
    "cost_00  = compute_cost(X, y, m, theta_00)\n",
    "cost_12  = compute_cost(X, y, m, theta_12)\n",
    "\n",
    "print('theta0 = 0, theta1 = 0\\nExpected: 32.07\\nCalculated: {}\\n'.format(round(cost_00, 3)))\n",
    "print('theta0 = -1, theta1 = 2\\nExpected: 54.24\\nCalculated: {}\\n'.format(round(cost_12, 3)))"
   ]
  },
  {
   "cell_type": "markdown",
   "metadata": {},
   "source": [
    "#### Perform Gradient Descent"
   ]
  },
  {
   "cell_type": "code",
   "execution_count": 9,
   "metadata": {},
   "outputs": [],
   "source": [
    " theta, J_hist = gradient_descent(X, y, m, theta, alpha, iterations)"
   ]
  },
  {
   "cell_type": "code",
   "execution_count": 10,
   "metadata": {},
   "outputs": [
    {
     "name": "stdout",
     "output_type": "stream",
     "text": [
      "Theta found from gradient descent: [-3.6303  1.1664]\n",
      "Expected theta: [-3.6303  1.1664]\n"
     ]
    }
   ],
   "source": [
    "print('Theta found from gradient descent: {}'.format(np.round(theta, 4)))\n",
    "print('Expected theta: [-3.6303  1.1664]')"
   ]
  },
  {
   "cell_type": "markdown",
   "metadata": {},
   "source": [
    "### Plotting the Results\n"
   ]
  },
  {
   "cell_type": "markdown",
   "metadata": {},
   "source": [
    "##### Visualize the Cost Function over iterations"
   ]
  },
  {
   "cell_type": "code",
   "execution_count": 11,
   "metadata": {},
   "outputs": [
    {
     "data": {
      "image/png": "[encoded data removed]",
      "text/plain": [
       "<matplotlib.figure.Figure at 0x117fe3cc0>"
      ]
     },
     "metadata": {},
     "output_type": "display_data"
    }
   ],
   "source": [
    "plt.figure(figsize=(12,8))\n",
    "plt.plot(J_hist, 'go')\n",
    "plt.xlabel('Iterations')\n",
    "plt.ylabel('Cost Function J')\n",
    "plt.title('Cost Function vs Iterations')\n",
    "plt.grid(True)"
   ]
  },
  {
   "cell_type": "code",
   "execution_count": 12,
   "metadata": {},
   "outputs": [],
   "source": [
    "def hypothesis(X, theta):\n",
    "    '''\n",
    "        Returns hypothesis values given x values\n",
    "    '''\n",
    "    return np.dot(X, theta)"
   ]
  },
  {
   "cell_type": "markdown",
   "metadata": {},
   "source": [
    "##### Plot the training data with the model fit line"
   ]
  },
  {
   "cell_type": "code",
   "execution_count": 13,
   "metadata": {},
   "outputs": [
    {
     "data": {
      "image/png": "[encoded data removed]",
      "text/plain": [
       "<matplotlib.figure.Figure at 0x1181c5d30>"
      ]
     },
     "metadata": {},
     "output_type": "display_data"
    }
   ],
   "source": [
    "plt.figure(figsize=(12,8))\n",
    "plt.plot(X[:,1], y[:], 'rx', label='Training Data', markersize=10)\n",
    "plt.plot(X[:,1], hypothesis(X, theta), 'b-', label='Linear Regression')\n",
    "plt.xlabel('Population of City in 10,000s')\n",
    "plt.ylabel('Profit in $10,000s')\n",
    "plt.title('Profit vs Population of City')\n",
    "plt.legend()\n",
    "plt.grid(True)"
   ]
  },
  {
   "cell_type": "markdown",
   "metadata": {},
   "source": [
    "### 3. Linear Regression with Multiple Variables"
   ]
  },
  {
   "cell_type": "code",
   "execution_count": 14,
   "metadata": {},
   "outputs": [],
   "source": [
    "# Load the training data for this section\n",
    "X , y, m = load_data('data/ex1data2.txt')"
   ]
  },
  {
   "cell_type": "markdown",
   "metadata": {},
   "source": [
    "This data is for predicting the price of a house in Portland, OR given the size of the house in square feet and number of bedrooms.\n",
    "The data in X are 1, size, # bedrooms and y is a vector of prices"
   ]
  },
  {
   "cell_type": "markdown",
   "metadata": {},
   "source": [
    "### 3.1 Feature Normalization\n",
    "Since the features are in different data ranges (1000s of square feet vs several bedrooms) it makes sense to normalize our features.\n",
    "\n",
    "Subtract the mean from each feature and divide by the standard deviation"
   ]
  },
  {
   "cell_type": "code",
   "execution_count": 15,
   "metadata": {},
   "outputs": [],
   "source": [
    "def feature_normalize(matrix):\n",
    "    '''\n",
    "        Returns a matrix of normalized values, average value of each column mu, and standard deviation of each column sigma\n",
    "        Subtract mean of each column from values then divide by the standard deviation of each column\n",
    "    '''\n",
    "    mu    = matrix.mean(axis=0) # average of each column\n",
    "    sigma = matrix.std(axis=0)  # standard deviation of each column\n",
    "    return ((matrix - mu) / sigma, mu, sigma)"
   ]
  },
  {
   "cell_type": "code",
   "execution_count": 16,
   "metadata": {},
   "outputs": [],
   "source": [
    "# Normalize X and y\n",
    "# Store the average and standard deviations to use later during predictions\n",
    "X_norm, X_mu, X_sigma = feature_normalize(X[:,1:]) # Do not send x0 1s column to normalize\n",
    "X_norm = np.insert(X_norm, 0, 1, axis=1) # Replace x0 1s column\n",
    "y_norm, y_mu, y_sigma = feature_normalize(y)"
   ]
  },
  {
   "cell_type": "markdown",
   "metadata": {},
   "source": [
    "### 3.2 Gradient Descent\n",
    "This should be easy since the functions defined earlier were generalized to any number of features"
   ]
  },
  {
   "cell_type": "code",
   "execution_count": 17,
   "metadata": {},
   "outputs": [],
   "source": [
    "# Set Initial values\n",
    "alpha = 0.01\n",
    "iterations = 400\n",
    "theta = np.zeros(3)"
   ]
  },
  {
   "cell_type": "code",
   "execution_count": 18,
   "metadata": {},
   "outputs": [],
   "source": [
    "# Run gradient Descent\n",
    "theta_grad, J_hist = gradient_descent(X_norm, y, m, theta, alpha, iterations)"
   ]
  },
  {
   "cell_type": "markdown",
   "metadata": {},
   "source": [
    "#### Plot the convergence of J"
   ]
  },
  {
   "cell_type": "code",
   "execution_count": 19,
   "metadata": {},
   "outputs": [
    {
     "data": {
      "image/png": "[encoded data removed]",
      "text/plain": [
       "<matplotlib.figure.Figure at 0x1183ca518>"
      ]
     },
     "metadata": {},
     "output_type": "display_data"
    }
   ],
   "source": [
    "plt.figure(figsize=(12,8))\n",
    "plt.plot(J_hist, 'g-')\n",
    "plt.xlabel('Iterations')\n",
    "plt.ylabel('Cost Function J')\n",
    "plt.title('Cost Function vs Iterations')\n",
    "plt.grid(True)"
   ]
  },
  {
   "cell_type": "markdown",
   "metadata": {},
   "source": [
    "#### Results from Gradient Descent"
   ]
  },
  {
   "cell_type": "code",
   "execution_count": 20,
   "metadata": {},
   "outputs": [
    {
     "name": "stdout",
     "output_type": "stream",
     "text": [
      "Theta computed from gradient descent: [334302.06399328  99411.44947359   3267.01285407]\n"
     ]
    }
   ],
   "source": [
    "print('Theta computed from gradient descent: {}'.format(theta_grad))"
   ]
  },
  {
   "cell_type": "markdown",
   "metadata": {},
   "source": [
    "##### Predict Prices based on features"
   ]
  },
  {
   "cell_type": "code",
   "execution_count": 21,
   "metadata": {},
   "outputs": [],
   "source": [
    "# Set features to predict and normalize them\n",
    "predict1 = [1650 , 3]\n",
    "predict1_norm = (predict1 - X_mu) / X_sigma\n",
    "predict1_norm = np.insert(predict1_norm, 0, 1, axis=0) # add the 1s column for feature x0"
   ]
  },
  {
   "cell_type": "code",
   "execution_count": 22,
   "metadata": {},
   "outputs": [],
   "source": [
    "price1_grad = np.dot(predict1_norm, theta_grad)"
   ]
  },
  {
   "cell_type": "code",
   "execution_count": 23,
   "metadata": {},
   "outputs": [
    {
     "name": "stdout",
     "output_type": "stream",
     "text": [
      "The price of a 1650 ft^2 house with 3 bedrooms predicted using gradient descent: $289221.55\n"
     ]
    }
   ],
   "source": [
    "print('The price of a 1650 ft^2 house with 3 bedrooms predicted using gradient descent: ${}'.format(np.round(price1_grad,2)))"
   ]
  },
  {
   "cell_type": "markdown",
   "metadata": {},
   "source": [
    "### 3.3 Normal Equation\n",
    "Calculate theta using the normal equation\n",
    "\n",
    "Compare to theta found using gradient descent and compare how the house predicted price using both methods"
   ]
  },
  {
   "cell_type": "code",
   "execution_count": 24,
   "metadata": {},
   "outputs": [],
   "source": [
    "def normal_equation(X, y):\n",
    "    '''\n",
    "        Returns theta values calculated using the normal equation\n",
    "        Note: there is no need to normalize data here\n",
    "    '''\n",
    "    return np.dot(np.dot(np.linalg.pinv(np.dot(X.T, X)), X.T), y)"
   ]
  },
  {
   "cell_type": "code",
   "execution_count": 25,
   "metadata": {},
   "outputs": [],
   "source": [
    "predict1 = [1, 1650, 3]\n",
    "theta_normal_equation = normal_equation(X,y)\n",
    "price1_normal_equation = np.dot(predict1, theta_normal_equation) # h is theta_transpose * X or X*theta"
   ]
  },
  {
   "cell_type": "code",
   "execution_count": 26,
   "metadata": {},
   "outputs": [
    {
     "name": "stdout",
     "output_type": "stream",
     "text": [
      "Theta calculated using the normal equation: [89597.90954361   139.21067402 -8738.01911255]\n"
     ]
    }
   ],
   "source": [
    "print('Theta calculated using the normal equation: {}'.format(theta_normal_equation))"
   ]
  },
  {
   "cell_type": "code",
   "execution_count": 27,
   "metadata": {},
   "outputs": [
    {
     "name": "stdout",
     "output_type": "stream",
     "text": [
      "The price of a 1650 ft^2 house with 3 bedrooms predicted using the normal equation: $293081.46\n"
     ]
    }
   ],
   "source": [
    "print('The price of a 1650 ft^2 house with 3 bedrooms predicted using the normal equation: ${}'.format(np.round(price1_normal_equation,2)))"
   ]
  }
 ],
 "metadata": {
  "kernelspec": {
   "display_name": "Python 3",
   "language": "python",
   "name": "python3"
  },
  "language_info": {
   "codemirror_mode": {
    "name": "ipython",
    "version": 3
   },
   "file_extension": ".py",
   "mimetype": "text/x-python",
   "name": "python",
   "nbconvert_exporter": "python",
   "pygments_lexer": "ipython3",
   "version": "3.6.4"
  }
 },
 "nbformat": 4,
 "nbformat_minor": 2
}
